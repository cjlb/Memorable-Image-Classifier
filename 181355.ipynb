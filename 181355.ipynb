{
 "cells": [
  {
   "cell_type": "code",
   "execution_count": 270,
   "metadata": {
    "colab": {
     "base_uri": "https://localhost:8080/",
     "height": 34
    },
    "colab_type": "code",
    "executionInfo": {
     "elapsed": 1632,
     "status": "ok",
     "timestamp": 1590948413533,
     "user": {
      "displayName": "Calvin Boreham",
      "photoUrl": "",
      "userId": "11224479780923968723"
     },
     "user_tz": -60
    },
    "id": "UZZ7XQCOSR2L",
    "outputId": "1523be65-9505-4c62-98c7-42519be65c64"
   },
   "outputs": [],
   "source": [
    "#imports\n",
    "\n",
    "#pre processing and helper libraries\n",
    "import numpy as np\n",
    "import matplotlib.pyplot as plt\n",
    "import pandas as pd\n",
    "from numpy import asarray\n",
    "from numpy import savetxt\n",
    "from numpy import loadtxt\n",
    "from sklearn.preprocessing import MinMaxScaler\n",
    "\n",
    "#mount google drive for data\n",
    "#from google.colab import drive\n",
    "#drive.mount('/content/drive')\n",
    "\n",
    "#imputation\n",
    "from sklearn.impute import KNNImputer\n",
    "from sklearn.experimental import enable_iterative_imputer\n",
    "from sklearn.impute import IterativeImputer\n",
    "from sklearn.neighbors import KNeighborsRegressor\n",
    "\n",
    "#feature selection\n",
    "from sklearn.ensemble import ExtraTreesClassifier\n",
    "from sklearn.feature_selection import SelectFromModel\n",
    "\n",
    "#data augmentation\n",
    "#!pip install imblearn\n",
    "import imblearn\n",
    "\n",
    "#model selection \n",
    "from sklearn.model_selection import train_test_split\n",
    "from sklearn.neural_network import MLPClassifier\n",
    "from sklearn.model_selection import StratifiedKFold, cross_validate\n",
    "from sklearn.model_selection import validation_curve, learning_curve, GridSearchCV, cross_val_score, RandomizedSearchCV\n",
    "from sklearn.metrics import accuracy_score, f1_score, precision_score, recall_score, make_scorer\n",
    "\n"
   ]
  },
  {
   "cell_type": "markdown",
   "metadata": {
    "colab_type": "text",
    "id": "_mRnXsHWUs_j"
   },
   "source": [
    "## Data Fetching and Missing Value Imputation"
   ]
  },
  {
   "cell_type": "code",
   "execution_count": 271,
   "metadata": {
    "colab": {},
    "colab_type": "code",
    "id": "2mkifiuvUZdd"
   },
   "outputs": [],
   "source": [
    "#the following code assumes a local file of data from kaggle, not included\n",
    "#fetch data\n",
    "training = pd.read_csv('data/training.csv', dtype = np.float64, keep_default_na= True)\n",
    "testing = pd.read_csv('data/testing.csv', dtype = np.float64, keep_default_na= True)\n"
   ]
  },
  {
   "cell_type": "code",
   "execution_count": 272,
   "metadata": {
    "colab": {},
    "colab_type": "code",
    "id": "afcPKoMIxiVX"
   },
   "outputs": [],
   "source": [
    "#fetch incomplete training data\n",
    "incomplete = pd.read_csv('data/additional_training.csv', dtype = np.float64, keep_default_na= True, delimiter= ',')\n"
   ]
  },
  {
   "cell_type": "code",
   "execution_count": 273,
   "metadata": {
    "colab": {
     "base_uri": "https://localhost:8080/",
     "height": 265
    },
    "colab_type": "code",
    "executionInfo": {
     "elapsed": 10691,
     "status": "ok",
     "timestamp": 1590948447170,
     "user": {
      "displayName": "Calvin Boreham",
      "photoUrl": "",
      "userId": "11224479780923968723"
     },
     "user_tz": -60
    },
    "id": "RwTrwiaYU9Ox",
    "outputId": "dd65b1be-000f-4ab6-98a9-1bf97438bc82"
   },
   "outputs": [
    {
     "name": "stdout",
     "output_type": "stream",
     "text": [
      "          ID      CNNs   CNNs.1  CNNs.2   CNNs.3   CNNs.4   CNNs.5    CNNs.6  \\\n",
      "0        1.0  0.000000  0.00000     0.0  0.00000  0.44033  0.00000  0.277470   \n",
      "1        2.0  0.000000  0.00000     0.0  0.00000  0.00000  1.84800  0.000000   \n",
      "2        3.0  0.000000  0.00000     0.0  0.30395  0.00000  0.00000  0.119300   \n",
      "3        4.0  0.211680  0.53031     0.0  0.00000  0.17560  0.00000  0.000000   \n",
      "4        5.0  0.000000  0.00000     0.0  0.60434  0.00000  0.00000  0.008473   \n",
      "...      ...       ...      ...     ...      ...      ...      ...       ...   \n",
      "2214  2462.0  0.000000      NaN     0.0  0.00000  0.00000  0.15108       NaN   \n",
      "2215  2463.0  0.000000  0.00000     0.0  0.29111  0.00000  0.00000  0.000000   \n",
      "2216  2464.0  0.043786      NaN     0.0  0.37372  0.00000  0.00000  0.000000   \n",
      "2217  2465.0  0.000000  1.05120     0.0  0.00000  0.00000  0.00000  0.000000   \n",
      "2218  2466.0  0.000000  0.00000     0.0  0.00000      NaN      NaN  1.373200   \n",
      "\n",
      "       CNNs.7   CNNs.8  ...  GIST.503  GIST.504  GIST.505  GIST.506  GIST.507  \\\n",
      "0     0.84990  0.00000  ...  0.031213  0.035996  0.055542  0.027488  0.010136   \n",
      "1     0.00000  0.00000  ...  0.007135  0.028133  0.014696  0.007583  0.006905   \n",
      "2     1.05840  0.51748  ...  0.015431  0.014210  0.014325  0.022543  0.012947   \n",
      "3     0.35810  0.86264  ...  0.007115  0.017257  0.008328  0.029539  0.006165   \n",
      "4     0.51557  0.00000  ...  0.006654  0.005674  0.004851  0.010119  0.004460   \n",
      "...       ...      ...  ...       ...       ...       ...       ...       ...   \n",
      "2214  0.00000  0.00000  ...  0.021819       NaN  0.037327       NaN  0.016833   \n",
      "2215  0.00000  0.00000  ...  0.008685       NaN       NaN  0.037140  0.013628   \n",
      "2216  0.94934  0.29822  ...  0.026658  0.018363  0.007486  0.017105  0.011090   \n",
      "2217  0.00000  0.21347  ...  0.018393  0.005131  0.020528       NaN  0.033860   \n",
      "2218  0.47366  0.00000  ...  0.014092  0.016009  0.026713  0.038481  0.014072   \n",
      "\n",
      "      GIST.508  GIST.509  GIST.510  GIST.511  prediction  \n",
      "0     0.028576  0.016819  0.013863  0.020987         1.0  \n",
      "1     0.019008  0.022172  0.025843  0.020629         1.0  \n",
      "2     0.018889  0.016838  0.018631  0.014774         1.0  \n",
      "3     0.012097  0.022226  0.041484  0.016790         1.0  \n",
      "4     0.009657  0.006265  0.006707  0.013045         1.0  \n",
      "...        ...       ...       ...       ...         ...  \n",
      "2214  0.025701  0.016527  0.018164  0.025477         1.0  \n",
      "2215       NaN  0.006510  0.018878  0.017722         0.0  \n",
      "2216  0.050463  0.018846  0.027723  0.018035         1.0  \n",
      "2217  0.009691  0.031765  0.028936  0.042728         1.0  \n",
      "2218  0.037979  0.029532  0.034974  0.024695         1.0  \n",
      "\n",
      "[2466 rows x 4610 columns]\n"
     ]
    }
   ],
   "source": [
    "#append incomplete and complete\n",
    "frames = [training, incomplete]\n",
    "combined_training = pd.concat(frames)\n",
    "print(combined_training)"
   ]
  },
  {
   "cell_type": "code",
   "execution_count": 274,
   "metadata": {
    "colab": {
     "base_uri": "https://localhost:8080/",
     "height": 265
    },
    "colab_type": "code",
    "executionInfo": {
     "elapsed": 8516,
     "status": "ok",
     "timestamp": 1590948447172,
     "user": {
      "displayName": "Calvin Boreham",
      "photoUrl": "",
      "userId": "11224479780923968723"
     },
     "user_tz": -60
    },
    "id": "6DljaWiiVHpo",
    "outputId": "63a0fa6e-6b2b-4798-c26f-4cd299608c10"
   },
   "outputs": [
    {
     "name": "stdout",
     "output_type": "stream",
     "text": [
      "        ID  confidence\n",
      "0        1        0.66\n",
      "1        2        0.66\n",
      "2        3        1.00\n",
      "3        4        1.00\n",
      "4        5        1.00\n",
      "...    ...         ...\n",
      "2461  2462        0.66\n",
      "2462  2463        0.66\n",
      "2463  2464        1.00\n",
      "2464  2465        0.66\n",
      "2465  2466        0.66\n",
      "\n",
      "[2466 rows x 2 columns]\n"
     ]
    }
   ],
   "source": [
    "#fetch label confidence\n",
    "confidence = pd.read_csv('data/annotation_confidence.csv', delimiter= ',')\n",
    "print(confidence)"
   ]
  },
  {
   "cell_type": "code",
   "execution_count": 275,
   "metadata": {
    "colab": {
     "base_uri": "https://localhost:8080/",
     "height": 265
    },
    "colab_type": "code",
    "executionInfo": {
     "elapsed": 5787,
     "status": "ok",
     "timestamp": 1590948447366,
     "user": {
      "displayName": "Calvin Boreham",
      "photoUrl": "",
      "userId": "11224479780923968723"
     },
     "user_tz": -60
    },
    "id": "nJEc4IlbVNwT",
    "outputId": "826d2e88-677f-4e81-cc5f-3b5ea14a6520"
   },
   "outputs": [
    {
     "name": "stdout",
     "output_type": "stream",
     "text": [
      "          ID      CNNs   CNNs.1  CNNs.2   CNNs.3   CNNs.4   CNNs.5    CNNs.6  \\\n",
      "0        1.0  0.000000  0.00000     0.0  0.00000  0.44033  0.00000  0.277470   \n",
      "1        2.0  0.000000  0.00000     0.0  0.00000  0.00000  1.84800  0.000000   \n",
      "2        3.0  0.000000  0.00000     0.0  0.30395  0.00000  0.00000  0.119300   \n",
      "3        4.0  0.211680  0.53031     0.0  0.00000  0.17560  0.00000  0.000000   \n",
      "4        5.0  0.000000  0.00000     0.0  0.60434  0.00000  0.00000  0.008473   \n",
      "...      ...       ...      ...     ...      ...      ...      ...       ...   \n",
      "2214  2462.0  0.000000      NaN     0.0  0.00000  0.00000  0.15108       NaN   \n",
      "2215  2463.0  0.000000  0.00000     0.0  0.29111  0.00000  0.00000  0.000000   \n",
      "2216  2464.0  0.043786      NaN     0.0  0.37372  0.00000  0.00000  0.000000   \n",
      "2217  2465.0  0.000000  1.05120     0.0  0.00000  0.00000  0.00000  0.000000   \n",
      "2218  2466.0  0.000000  0.00000     0.0  0.00000      NaN      NaN  1.373200   \n",
      "\n",
      "       CNNs.7   CNNs.8  ...  GIST.504  GIST.505  GIST.506  GIST.507  GIST.508  \\\n",
      "0     0.84990  0.00000  ...  0.035996  0.055542  0.027488  0.010136  0.028576   \n",
      "1     0.00000  0.00000  ...  0.028133  0.014696  0.007583  0.006905  0.019008   \n",
      "2     1.05840  0.51748  ...  0.014210  0.014325  0.022543  0.012947  0.018889   \n",
      "3     0.35810  0.86264  ...  0.017257  0.008328  0.029539  0.006165  0.012097   \n",
      "4     0.51557  0.00000  ...  0.005674  0.004851  0.010119  0.004460  0.009657   \n",
      "...       ...      ...  ...       ...       ...       ...       ...       ...   \n",
      "2214  0.00000  0.00000  ...       NaN  0.037327       NaN  0.016833  0.025701   \n",
      "2215  0.00000  0.00000  ...       NaN       NaN  0.037140  0.013628       NaN   \n",
      "2216  0.94934  0.29822  ...  0.018363  0.007486  0.017105  0.011090  0.050463   \n",
      "2217  0.00000  0.21347  ...  0.005131  0.020528       NaN  0.033860  0.009691   \n",
      "2218  0.47366  0.00000  ...  0.016009  0.026713  0.038481  0.014072  0.037979   \n",
      "\n",
      "      GIST.509  GIST.510  GIST.511  prediction  confidence  \n",
      "0     0.016819  0.013863  0.020987         1.0        0.66  \n",
      "1     0.022172  0.025843  0.020629         1.0        0.66  \n",
      "2     0.016838  0.018631  0.014774         1.0        1.00  \n",
      "3     0.022226  0.041484  0.016790         1.0        1.00  \n",
      "4     0.006265  0.006707  0.013045         1.0        1.00  \n",
      "...        ...       ...       ...         ...         ...  \n",
      "2214  0.016527  0.018164  0.025477         1.0        0.66  \n",
      "2215  0.006510  0.018878  0.017722         0.0        0.66  \n",
      "2216  0.018846  0.027723  0.018035         1.0        1.00  \n",
      "2217  0.031765  0.028936  0.042728         1.0        0.66  \n",
      "2218  0.029532  0.034974  0.024695         1.0        0.66  \n",
      "\n",
      "[2466 rows x 4611 columns]\n"
     ]
    }
   ],
   "source": [
    "#append confidence to training data\n",
    "confidence_temp = confidence['confidence'].to_numpy()\n",
    "combined_training['confidence'] = confidence_temp \n",
    "print(combined_training)"
   ]
  },
  {
   "cell_type": "code",
   "execution_count": 276,
   "metadata": {
    "colab": {},
    "colab_type": "code",
    "id": "XpNaoqYGWB92"
   },
   "outputs": [],
   "source": [
    "#drop samples with a low confidence and a prediction of 1.0 in the incomplete data\n",
    "#preserve all samples with either a 0 prediction or from original (feature-complete) samples\n",
    "combined_training_dropped = combined_training[(combined_training['prediction'] == 0.0) | \n",
    "                                          (combined_training['confidence'] == 1.00)]\n",
    "                                             "
   ]
  },
  {
   "cell_type": "code",
   "execution_count": 277,
   "metadata": {
    "colab": {
     "base_uri": "https://localhost:8080/",
     "height": 34
    },
    "colab_type": "code",
    "executionInfo": {
     "elapsed": 768,
     "status": "ok",
     "timestamp": 1590943022134,
     "user": {
      "displayName": "Calvin Boreham",
      "photoUrl": "",
      "userId": "11224479780923968723"
     },
     "user_tz": -60
    },
    "id": "26ZXev8kX4xB",
    "outputId": "d0a3bb8e-77d4-4061-d251-56ad6b4720d4"
   },
   "outputs": [],
   "source": [
    "\"\"\"\n",
    "prints the label counts for each prediction\n",
    "\"\"\"\n",
    "def print_predictions(data):\n",
    "    zeros = 0\n",
    "    ones = 0\n",
    "    for val in data:\n",
    "        if val == 1.0:\n",
    "            ones += 1\n",
    "        else:\n",
    "            zeros += 1\n",
    "    print(\"zeros:\" + str(zeros), \"ones:\" + str(ones))\n"
   ]
  },
  {
   "cell_type": "code",
   "execution_count": 278,
   "metadata": {},
   "outputs": [
    {
     "name": "stdout",
     "output_type": "stream",
     "text": [
      "zeros:326 ones:1142\n"
     ]
    }
   ],
   "source": [
    "#print predictions to confirm new bias after dropping\n",
    "print_predictions(combined_training_dropped['prediction'])"
   ]
  },
  {
   "cell_type": "code",
   "execution_count": 279,
   "metadata": {
    "colab": {},
    "colab_type": "code",
    "id": "a3VfwcHC05PQ"
   },
   "outputs": [],
   "source": [
    "#split samples into data and labels, drop ID and Confidence columns\n",
    "training_labels = combined_training_dropped['prediction']\n",
    "training_labels = training_labels.to_numpy(dtype = np.int)\n",
    "#extract CNN columns\n",
    "training_CNN_temp = combined_training_dropped.loc[:, combined_training_dropped.columns.str.startswith('CN')]\n",
    "#extract GIST columns\n",
    "training_GIST_temp = combined_training_dropped.loc[:, combined_training_dropped.columns.str.startswith('G')]\n",
    "\n",
    "#convert from pandas to numpy\n",
    "training_CNN = training_CNN_temp.to_numpy(dtype = np.float64)\n",
    "training_GIST = training_GIST_temp.to_numpy(dtype = np.float64)\n",
    "\n",
    "#repeat above data extraction with test data\n",
    "testing_CNN_temp = testing.loc[:, testing.columns.str.startswith('C')]\n",
    "testing_GIST_temp = testing.loc[:, testing.columns.str.startswith('G')]\n",
    "testing_CNN = testing_CNN_temp.to_numpy()\n",
    "testing_GIST = testing_GIST_temp.to_numpy()"
   ]
  },
  {
   "cell_type": "code",
   "execution_count": 280,
   "metadata": {
    "colab": {},
    "colab_type": "code",
    "id": "kpClPHjx1ftL"
   },
   "outputs": [],
   "source": [
    "\n",
    "\"\"\"\n",
    "Imputes NaN values in the data given using K Nearest neighbours imputation\n",
    "\"\"\"\n",
    "def impute_KNN( data, neighbours ):\n",
    "  imputer = KNNImputer(n_neighbors=neighbours, missing_values= np.nan, weights=\"distance\")\n",
    "  imputer.fit(data)\n",
    "  new_data = imputer.transform(data)\n",
    "  return new_data\n",
    "\n"
   ]
  },
  {
   "cell_type": "code",
   "execution_count": 281,
   "metadata": {
    "colab": {},
    "colab_type": "code",
    "id": "NAAajGvi4xLn"
   },
   "outputs": [],
   "source": [
    "#impute missing values\n",
    "training_CNN = impute_KNN(training_CNN, 5)"
   ]
  },
  {
   "cell_type": "markdown",
   "metadata": {},
   "source": [
    "## Feature Selection"
   ]
  },
  {
   "cell_type": "code",
   "execution_count": 282,
   "metadata": {},
   "outputs": [
    {
     "name": "stdout",
     "output_type": "stream",
     "text": [
      "(1468, 1733)\n",
      "(11874, 1733)\n"
     ]
    }
   ],
   "source": [
    "#feature select after imputation\n",
    "\n",
    "#fit extra trees classifier\n",
    "clf = ExtraTreesClassifier(n_estimators=50)\n",
    "clf = clf.fit(training_CNN, training_labels)\n",
    "\n",
    "#select most important from extra trees classifier\n",
    "model = SelectFromModel(clf, prefit=True)\n",
    "\n",
    "#training\n",
    "training_CNN_reduced = model.transform(training_CNN)\n",
    "print(training_CNN_reduced.shape)\n",
    "#testing\n",
    "testing_CNN_reduced = model.transform(testing_CNN)\n",
    "print(testing_CNN_reduced.shape)"
   ]
  },
  {
   "cell_type": "markdown",
   "metadata": {},
   "source": [
    "## Data Augmentation"
   ]
  },
  {
   "cell_type": "code",
   "execution_count": 283,
   "metadata": {},
   "outputs": [],
   "source": [
    "\n",
    "\"\"\"\n",
    "Apply SMOTE oversampling to supplied data and labels using supplied sampling strategy float\n",
    "\"\"\"\n",
    "def oversample(data, labels, strategy):\n",
    "    oversample = imblearn.over_sampling.SMOTE(sampling_strategy = strategy)\n",
    "    data, labels = oversample.fit_resample(training_CNN_reduced, training_labels)\n",
    "    return data, labels\n",
    "    \n",
    "#use SMOTE to oversample from zero label samples\n",
    "training_CNN_reduced_augmented, training_labels_augmented = oversample(training_CNN_reduced, training_labels, 0.44)"
   ]
  },
  {
   "cell_type": "code",
   "execution_count": 284,
   "metadata": {},
   "outputs": [
    {
     "name": "stdout",
     "output_type": "stream",
     "text": [
      "(1644,)\n",
      "zeros:502 ones:1142\n"
     ]
    }
   ],
   "source": [
    "#pritn augmented data details\n",
    "print(training_labels_augmented.shape)\n",
    "print_predictions(training_labels_augmented)"
   ]
  },
  {
   "cell_type": "markdown",
   "metadata": {
    "colab_type": "text",
    "id": "MQN1q7g6C9yp"
   },
   "source": [
    "## Pre Processing\n"
   ]
  },
  {
   "cell_type": "code",
   "execution_count": 285,
   "metadata": {
    "colab": {},
    "colab_type": "code",
    "id": "RR2Nsj_c6YRK"
   },
   "outputs": [],
   "source": [
    "#perform standard scaling\n",
    "#bring values between 0 and 1\n",
    "\n",
    "#--CNN--\n",
    "scaler = MinMaxScaler()\n",
    "training_CNN = scaler.fit_transform(training_CNN)\n",
    "training_CNN_reduced = scaler.fit_transform(training_CNN_reduced)\n",
    "testing_CNN = scaler.fit_transform(testing_CNN)\n",
    "training_CNN_reduced_augmented = scaler.fit_transform(training_CNN_reduced_augmented)\n",
    "#--GIST--\n",
    "training_GIST = scaler.fit_transform(training_GIST)\n",
    "testing_GIST = scaler.fit_transform(testing_GIST)"
   ]
  },
  {
   "cell_type": "markdown",
   "metadata": {
    "colab_type": "text",
    "id": "rdK9Vwo7DFD9"
   },
   "source": [
    "## Model Baseline and Pre Processing Based Experiments"
   ]
  },
  {
   "cell_type": "code",
   "execution_count": 286,
   "metadata": {
    "colab": {},
    "colab_type": "code",
    "id": "sixqSUGRChbX"
   },
   "outputs": [],
   "source": [
    "#create basic model\n",
    "model =  MLPClassifier(solver = 'lbfgs', hidden_layer_sizes=(1468,1468), activation='relu',alpha = 0.001, max_iter=400)"
   ]
  },
  {
   "cell_type": "code",
   "execution_count": 287,
   "metadata": {
    "colab": {
     "base_uri": "https://localhost:8080/",
     "height": 34
    },
    "colab_type": "code",
    "executionInfo": {
     "elapsed": 873173,
     "status": "ok",
     "timestamp": 1590934610208,
     "user": {
      "displayName": "Calvin Boreham",
      "photoUrl": "",
      "userId": "11224479780923968723"
     },
     "user_tz": -60
    },
    "id": "pg_Fxkh3CtjM",
    "outputId": "1b0a0c34-352a-415e-ee52-aa4aa6d4c24d"
   },
   "outputs": [],
   "source": [
    "#evaluate model with cross validation\n",
    "\n",
    "\"\"\"\n",
    "Evaluate model using 5-Fold cross validation and print accuracy\n",
    "\"\"\"\n",
    "def k_fold_cross(model,data,labels):\n",
    "    seed = 98978\n",
    "    np.random.seed(seed)\n",
    "\n",
    "    kfold = StratifiedKFold(n_splits=5, shuffle=True, random_state=seed)\n",
    "    results = cross_val_score(model, data, labels, cv=kfold)\n",
    "\n",
    "    print(\"Accuracy: %.2f%%\" % (results.mean()*100.0))\n",
    "    return results.mean()\n",
    "    \n"
   ]
  },
  {
   "cell_type": "code",
   "execution_count": 264,
   "metadata": {},
   "outputs": [
    {
     "name": "stdout",
     "output_type": "stream",
     "text": [
      "Accuracy: 69.96%\n"
     ]
    },
    {
     "data": {
      "text/plain": [
       "0.699568154907014"
      ]
     },
     "execution_count": 264,
     "metadata": {},
     "output_type": "execute_result"
    }
   ],
   "source": [
    "#feature selected data\n",
    "k_fold_cross(model, training_CNN_reduced, training_labels)"
   ]
  },
  {
   "cell_type": "code",
   "execution_count": 265,
   "metadata": {
    "colab": {},
    "colab_type": "code",
    "id": "enG3lgzL1vDE"
   },
   "outputs": [
    {
     "name": "stdout",
     "output_type": "stream",
     "text": [
      "Accuracy: 68.19%\n"
     ]
    },
    {
     "data": {
      "text/plain": [
       "0.6818601843467762"
      ]
     },
     "execution_count": 265,
     "metadata": {},
     "output_type": "execute_result"
    }
   ],
   "source": [
    "#non-feature selected data\n",
    "k_fold_cross(model, training_CNN, training_labels)"
   ]
  },
  {
   "cell_type": "code",
   "execution_count": 266,
   "metadata": {},
   "outputs": [
    {
     "name": "stdout",
     "output_type": "stream",
     "text": [
      "Accuracy: 75.55%\n"
     ]
    },
    {
     "data": {
      "text/plain": [
       "0.7554544443620728"
      ]
     },
     "execution_count": 266,
     "metadata": {},
     "output_type": "execute_result"
    }
   ],
   "source": [
    "#augmented data, moving forward with reduced data\n",
    "k_fold_cross(model, training_CNN_reduced_augmented, training_labels_augmented)"
   ]
  },
  {
   "cell_type": "markdown",
   "metadata": {
    "colab_type": "text",
    "id": "frGWBQ084ijB"
   },
   "source": [
    "## Model Selection\n"
   ]
  },
  {
   "cell_type": "code",
   "execution_count": 189,
   "metadata": {
    "colab": {},
    "colab_type": "code",
    "id": "sUPhGLGP4hnz"
   },
   "outputs": [],
   "source": [
    "#model selection for augmented data\n",
    "\n",
    "#parameter space\n",
    "parameters = {\n",
    "    'hidden_layer_sizes':[500,1000,1644, (1644,1000,500),(1644,1000), (1644,1644)],\n",
    "    'alpha':list(np.linspace(0.0001, 0.1, num = 10)),\n",
    "    'batch_size':list(np.linspace(100,1644, num = 10, dtype = int))\n",
    " }\n"
   ]
  },
  {
   "cell_type": "code",
   "execution_count": 190,
   "metadata": {
    "colab": {
     "base_uri": "https://localhost:8080/",
     "height": 336
    },
    "colab_type": "code",
    "executionInfo": {
     "elapsed": 1283955,
     "status": "ok",
     "timestamp": 1590944533025,
     "user": {
      "displayName": "Calvin Boreham",
      "photoUrl": "",
      "userId": "11224479780923968723"
     },
     "user_tz": -60
    },
    "id": "jXCoQ7SwElet",
    "outputId": "22457b99-66e4-40ee-fbf9-7676def51274"
   },
   "outputs": [
    {
     "data": {
      "text/plain": [
       "RandomizedSearchCV(cv=None, error_score=nan,\n",
       "                   estimator=MLPClassifier(activation='relu', alpha=0.0,\n",
       "                                           batch_size='auto', beta_1=0.9,\n",
       "                                           beta_2=0.999, early_stopping=False,\n",
       "                                           epsilon=1e-08,\n",
       "                                           hidden_layer_sizes=(100,),\n",
       "                                           learning_rate='constant',\n",
       "                                           learning_rate_init=0.001,\n",
       "                                           max_fun=15000, max_iter=1000,\n",
       "                                           momentum=0.9, n_iter_no_change=10,\n",
       "                                           nesterovs_momentum=True, power_t=0.5,\n",
       "                                           rando...\n",
       "                                                  0.033400000000000006,\n",
       "                                                  0.044500000000000005,\n",
       "                                                  0.055600000000000004,\n",
       "                                                  0.06670000000000001,\n",
       "                                                  0.07780000000000001, 0.0889,\n",
       "                                                  0.1],\n",
       "                                        'batch_size': [100, 271, 443, 614, 786,\n",
       "                                                       957, 1129, 1300, 1472,\n",
       "                                                       1644],\n",
       "                                        'hidden_layer_sizes': [500, 1000, 1644,\n",
       "                                                               (1644, 1000,\n",
       "                                                                500),\n",
       "                                                               (1644, 1000),\n",
       "                                                               (1644, 1644)]},\n",
       "                   pre_dispatch='2*n_jobs', random_state=None, refit=True,\n",
       "                   return_train_score=False, scoring=None, verbose=0)"
      ]
     },
     "execution_count": 190,
     "metadata": {},
     "output_type": "execute_result"
    }
   ],
   "source": [
    "#run randomized search with default cross validation\n",
    "model = MLPClassifier(solver = 'lbfgs', activation='relu', max_iter = 1000)\n",
    "clf = RandomizedSearchCV(model, parameters)\n",
    "clf.fit(training_CNN_reduced_augmented, training_labels_augmented)"
   ]
  },
  {
   "cell_type": "code",
   "execution_count": 191,
   "metadata": {
    "colab": {
     "base_uri": "https://localhost:8080/",
     "height": 34
    },
    "colab_type": "code",
    "executionInfo": {
     "elapsed": 550,
     "status": "ok",
     "timestamp": 1590944982503,
     "user": {
      "displayName": "Calvin Boreham",
      "photoUrl": "",
      "userId": "11224479780923968723"
     },
     "user_tz": -60
    },
    "id": "Q11O58l1Tg1n",
    "outputId": "d171ffda-b505-45a5-e45c-c22889efba81"
   },
   "outputs": [
    {
     "data": {
      "text/plain": [
       "{'hidden_layer_sizes': (1644, 1000), 'batch_size': 1472, 'alpha': 0.0001}"
      ]
     },
     "execution_count": 191,
     "metadata": {},
     "output_type": "execute_result"
    }
   ],
   "source": [
    "clf.best_params_"
   ]
  },
  {
   "cell_type": "code",
   "execution_count": 192,
   "metadata": {
    "colab": {
     "base_uri": "https://localhost:8080/",
     "height": 34
    },
    "colab_type": "code",
    "executionInfo": {
     "elapsed": 543,
     "status": "ok",
     "timestamp": 1590944989326,
     "user": {
      "displayName": "Calvin Boreham",
      "photoUrl": "",
      "userId": "11224479780923968723"
     },
     "user_tz": -60
    },
    "id": "Z0iq0IynT5mo",
    "outputId": "6b9d884f-87c8-4517-ab47-1a38dfab2cde"
   },
   "outputs": [
    {
     "data": {
      "text/plain": [
       "0.7731688783453184"
      ]
     },
     "execution_count": 192,
     "metadata": {},
     "output_type": "execute_result"
    }
   ],
   "source": [
    "clf.best_score_"
   ]
  },
  {
   "cell_type": "code",
   "execution_count": 193,
   "metadata": {
    "scrolled": true
   },
   "outputs": [
    {
     "data": {
      "text/plain": [
       "{'mean_fit_time': array([ 9.06735377, 41.79442697, 31.00786786, 19.43682055, 39.16632762,\n",
       "        21.34947157, 38.34925013, 12.58994303, 95.48936315, 12.35708094]),\n",
       " 'std_fit_time': array([ 1.43220022,  4.68634484,  8.55232379,  1.29683947,  5.96427403,\n",
       "         5.21952943,  8.05112854,  0.21344576, 11.71797745,  1.50639327]),\n",
       " 'mean_score_time': array([0.01257095, 0.01994672, 0.01954794, 0.02792525, 0.02034583,\n",
       "        0.02174411, 0.01994715, 0.02035112, 0.0375001 , 0.02134314]),\n",
       " 'std_score_time': array([0.00102331, 0.00154483, 0.00119686, 0.00087936, 0.00135264,\n",
       "        0.00074715, 0.00089164, 0.00161252, 0.00439699, 0.00079803]),\n",
       " 'param_hidden_layer_sizes': masked_array(data=[1000, 1644, 1644, (1644, 1000), 1644, 1644, 1644, 1644,\n",
       "                    (1644, 1644), 1644],\n",
       "              mask=[False, False, False, False, False, False, False, False,\n",
       "                    False, False],\n",
       "        fill_value='?',\n",
       "             dtype=object),\n",
       " 'param_batch_size': masked_array(data=[1472, 1472, 786, 1472, 271, 1644, 786, 1300, 271, 1472],\n",
       "              mask=[False, False, False, False, False, False, False, False,\n",
       "                    False, False],\n",
       "        fill_value='?',\n",
       "             dtype=object),\n",
       " 'param_alpha': masked_array(data=[0.0223, 0.07780000000000001, 0.055600000000000004,\n",
       "                    0.0001, 0.06670000000000001, 0.033400000000000006,\n",
       "                    0.06670000000000001, 0.0001, 0.07780000000000001,\n",
       "                    0.0112],\n",
       "              mask=[False, False, False, False, False, False, False, False,\n",
       "                    False, False],\n",
       "        fill_value='?',\n",
       "             dtype=object),\n",
       " 'params': [{'hidden_layer_sizes': 1000, 'batch_size': 1472, 'alpha': 0.0223},\n",
       "  {'hidden_layer_sizes': 1644,\n",
       "   'batch_size': 1472,\n",
       "   'alpha': 0.07780000000000001},\n",
       "  {'hidden_layer_sizes': 1644,\n",
       "   'batch_size': 786,\n",
       "   'alpha': 0.055600000000000004},\n",
       "  {'hidden_layer_sizes': (1644, 1000), 'batch_size': 1472, 'alpha': 0.0001},\n",
       "  {'hidden_layer_sizes': 1644,\n",
       "   'batch_size': 271,\n",
       "   'alpha': 0.06670000000000001},\n",
       "  {'hidden_layer_sizes': 1644,\n",
       "   'batch_size': 1644,\n",
       "   'alpha': 0.033400000000000006},\n",
       "  {'hidden_layer_sizes': 1644,\n",
       "   'batch_size': 786,\n",
       "   'alpha': 0.06670000000000001},\n",
       "  {'hidden_layer_sizes': 1644, 'batch_size': 1300, 'alpha': 0.0001},\n",
       "  {'hidden_layer_sizes': (1644, 1644),\n",
       "   'batch_size': 271,\n",
       "   'alpha': 0.07780000000000001},\n",
       "  {'hidden_layer_sizes': 1644, 'batch_size': 1472, 'alpha': 0.0112}],\n",
       " 'split0_test_score': array([0.72340426, 0.74468085, 0.71732523, 0.73556231, 0.71428571,\n",
       "        0.70516717, 0.70820669, 0.72948328, 0.68085106, 0.72036474]),\n",
       " 'split1_test_score': array([0.74468085, 0.71732523, 0.73860182, 0.7325228 , 0.74468085,\n",
       "        0.74772036, 0.72948328, 0.74468085, 0.72340426, 0.74164134]),\n",
       " 'split2_test_score': array([0.72036474, 0.7112462 , 0.68389058, 0.7112462 , 0.72340426,\n",
       "        0.6899696 , 0.6899696 , 0.69908815, 0.68085106, 0.71428571]),\n",
       " 'split3_test_score': array([0.82674772, 0.82066869, 0.80243161, 0.82370821, 0.80851064,\n",
       "        0.82978723, 0.82370821, 0.80547112, 0.78115502, 0.80547112]),\n",
       " 'split4_test_score': array([0.85060976, 0.85060976, 0.84756098, 0.86280488, 0.85060976,\n",
       "        0.86280488, 0.85060976, 0.85365854, 0.82926829, 0.86280488]),\n",
       " 'mean_test_score': array([0.77316146, 0.76890615, 0.75796204, 0.77316888, 0.76829824,\n",
       "        0.76708985, 0.76039551, 0.76647639, 0.73910594, 0.76891356]),\n",
       " 'std_test_score': array([0.05467018, 0.05643929, 0.05919166, 0.05914324, 0.05269312,\n",
       "        0.06819011, 0.06447659, 0.05568847, 0.05819137, 0.05698596]),\n",
       " 'rank_test_score': array([ 2,  4,  9,  1,  5,  6,  8,  7, 10,  3])}"
      ]
     },
     "execution_count": 193,
     "metadata": {},
     "output_type": "execute_result"
    }
   ],
   "source": [
    "clf.cv_results_"
   ]
  },
  {
   "cell_type": "code",
   "execution_count": 289,
   "metadata": {},
   "outputs": [
    {
     "name": "stdout",
     "output_type": "stream",
     "text": [
      "{'hidden_layer_sizes': (1468, 1000, 500), 'batch_size': 1316, 'alpha': 0.0112}\n",
      "0.7173086299366163\n",
      "{'mean_fit_time': array([ 20.55122066,  82.41858273,   9.73875523,   3.28082604,\n",
      "        40.3083961 , 110.09476628,   4.83347363, 128.92180781,\n",
      "         6.52854004,  20.02563472]), 'std_fit_time': array([ 1.59737315, 42.78722911,  0.39224424,  0.18497637, 34.76904325,\n",
      "       56.74823488,  0.41617294, 85.71681867,  0.60469809,  0.88422968]), 'mean_score_time': array([0.03050671, 0.02952065, 0.01575737, 0.00658231, 0.02753038,\n",
      "       0.02413559, 0.00757961, 0.02793269, 0.0075798 , 0.02832437]), 'std_score_time': array([0.00284001, 0.0047037 , 0.00116324, 0.00048885, 0.00049174,\n",
      "       0.00182782, 0.00135287, 0.00274931, 0.00101698, 0.00101717]), 'param_hidden_layer_sizes': masked_array(data=[(1468, 1000, 500), (1468, 1000, 500), 1468, 500,\n",
      "                   (1468, 1000, 500), (1468, 1000), 500, (1468, 1468),\n",
      "                   500, (1468, 1000, 500)],\n",
      "             mask=[False, False, False, False, False, False, False, False,\n",
      "                   False, False],\n",
      "       fill_value='?',\n",
      "            dtype=object), 'param_batch_size': masked_array(data=[1316, 404, 252, 1468, 1316, 252, 252, 404, 1164, 708],\n",
      "             mask=[False, False, False, False, False, False, False, False,\n",
      "                   False, False],\n",
      "       fill_value='?',\n",
      "            dtype=object), 'param_alpha': masked_array(data=[0.0112, 0.06670000000000001, 0.0001, 0.0001, 0.1,\n",
      "                   0.0889, 0.0223, 0.1, 0.044500000000000005, 0.0001],\n",
      "             mask=[False, False, False, False, False, False, False, False,\n",
      "                   False, False],\n",
      "       fill_value='?',\n",
      "            dtype=object), 'params': [{'hidden_layer_sizes': (1468, 1000, 500), 'batch_size': 1316, 'alpha': 0.0112}, {'hidden_layer_sizes': (1468, 1000, 500), 'batch_size': 404, 'alpha': 0.06670000000000001}, {'hidden_layer_sizes': 1468, 'batch_size': 252, 'alpha': 0.0001}, {'hidden_layer_sizes': 500, 'batch_size': 1468, 'alpha': 0.0001}, {'hidden_layer_sizes': (1468, 1000, 500), 'batch_size': 1316, 'alpha': 0.1}, {'hidden_layer_sizes': (1468, 1000), 'batch_size': 252, 'alpha': 0.0889}, {'hidden_layer_sizes': 500, 'batch_size': 252, 'alpha': 0.0223}, {'hidden_layer_sizes': (1468, 1468), 'batch_size': 404, 'alpha': 0.1}, {'hidden_layer_sizes': 500, 'batch_size': 1164, 'alpha': 0.044500000000000005}, {'hidden_layer_sizes': (1468, 1000, 500), 'batch_size': 708, 'alpha': 0.0001}], 'split0_test_score': array([0.73129252, 0.71428571, 0.70068027, 0.71428571, 0.70408163,\n",
      "       0.6462585 , 0.70408163, 0.6462585 , 0.71428571, 0.73809524]), 'split1_test_score': array([0.73129252, 0.66326531, 0.72108844, 0.72108844, 0.69387755,\n",
      "       0.67006803, 0.70408163, 0.6292517 , 0.69727891, 0.72789116]), 'split2_test_score': array([0.68027211, 0.65306122, 0.69387755, 0.65306122, 0.69387755,\n",
      "       0.65646259, 0.68707483, 0.65646259, 0.69387755, 0.67346939]), 'split3_test_score': array([0.70989761, 0.68259386, 0.70989761, 0.72013652, 0.71672355,\n",
      "       0.70648464, 0.72013652, 0.68259386, 0.73720137, 0.71672355]), 'split4_test_score': array([0.7337884 , 0.70307167, 0.7440273 , 0.73037543, 0.72354949,\n",
      "       0.69624573, 0.72013652, 0.69624573, 0.72696246, 0.72013652]), 'mean_test_score': array([0.71730863, 0.68325555, 0.71391423, 0.70778946, 0.70642195,\n",
      "       0.6751039 , 0.70710223, 0.66216248, 0.7139212 , 0.71526317]), 'std_test_score': array([0.02044166, 0.02309673, 0.01761253, 0.02784536, 0.0119973 ,\n",
      "       0.02296364, 0.01232177, 0.02428026, 0.01667865, 0.02215117]), 'rank_test_score': array([ 1,  8,  4,  5,  7,  9,  6, 10,  3,  2])}\n"
     ]
    },
    {
     "ename": "AttributeError",
     "evalue": "'ExtraTreesClassifier' object has no attribute 'params_'",
     "output_type": "error",
     "traceback": [
      "\u001b[1;31m---------------------------------------------------------------------------\u001b[0m",
      "\u001b[1;31mAttributeError\u001b[0m                            Traceback (most recent call last)",
      "\u001b[1;32m<ipython-input-289-3ae990af1ddb>\u001b[0m in \u001b[0;36m<module>\u001b[1;34m\u001b[0m\n\u001b[0;32m     17\u001b[0m \u001b[0mprint\u001b[0m\u001b[1;33m(\u001b[0m\u001b[0mclf2\u001b[0m\u001b[1;33m.\u001b[0m\u001b[0mbest_score_\u001b[0m\u001b[1;33m)\u001b[0m\u001b[1;33m\u001b[0m\u001b[1;33m\u001b[0m\u001b[0m\n\u001b[0;32m     18\u001b[0m \u001b[0mprint\u001b[0m\u001b[1;33m(\u001b[0m\u001b[0mclf2\u001b[0m\u001b[1;33m.\u001b[0m\u001b[0mcv_results_\u001b[0m\u001b[1;33m)\u001b[0m\u001b[1;33m\u001b[0m\u001b[1;33m\u001b[0m\u001b[0m\n\u001b[1;32m---> 19\u001b[1;33m \u001b[0mprint\u001b[0m\u001b[1;33m(\u001b[0m\u001b[0mclf\u001b[0m\u001b[1;33m.\u001b[0m\u001b[0mparams_\u001b[0m\u001b[1;33m)\u001b[0m\u001b[1;33m\u001b[0m\u001b[1;33m\u001b[0m\u001b[0m\n\u001b[0m",
      "\u001b[1;31mAttributeError\u001b[0m: 'ExtraTreesClassifier' object has no attribute 'params_'"
     ]
    }
   ],
   "source": [
    "#model selection for non-augmented data\n",
    "\n",
    "#parameter space\n",
    "parameters = {\n",
    "    'hidden_layer_sizes':[500,1000,1468, (1468,1000,500),(1468,1000), (1468,1468)],\n",
    "    'alpha':list(np.linspace(0.0001, 0.1, num = 10)),\n",
    "    'batch_size':list(np.linspace(100,1468, num = 10, dtype = int))\n",
    " }\n",
    "\n",
    "#random grid search\n",
    "model = MLPClassifier(solver = 'lbfgs', activation='relu', max_iter = 1000)\n",
    "clf2 = RandomizedSearchCV(model, parameters)\n",
    "clf2.fit(training_CNN_reduced, training_labels)\n",
    "\n",
    "#print results\n",
    "print(clf2.best_params_)\n",
    "print(clf2.best_score_)\n",
    "print(clf2.cv_results_)\n"
   ]
  },
  {
   "cell_type": "code",
   "execution_count": 295,
   "metadata": {},
   "outputs": [
    {
     "data": {
      "text/plain": [
       "array([0.71730863, 0.68325555, 0.71391423, 0.70778946, 0.70642195,\n",
       "       0.6751039 , 0.70710223, 0.66216248, 0.7139212 , 0.71526317])"
      ]
     },
     "execution_count": 295,
     "metadata": {},
     "output_type": "execute_result"
    }
   ],
   "source": [
    "clf2.cv_results_['mean_test_score']"
   ]
  },
  {
   "cell_type": "markdown",
   "metadata": {},
   "source": [
    "## Generate Submission"
   ]
  },
  {
   "cell_type": "code",
   "execution_count": 296,
   "metadata": {
    "colab": {},
    "colab_type": "code",
    "id": "y1mdTj2YDa0s"
   },
   "outputs": [],
   "source": [
    "#kaggle submission generator\n",
    "#augmented data\n",
    "model =  MLPClassifier(solver = 'lbfgs', hidden_layer_sizes=(1644,1000), activation='relu',alpha = 0.0001, validation_fraction=0, max_iter = 500, batch_size = 1472)\n",
    "model.fit(training_CNN_reduced_augmented, training_labels_augmented)\n",
    "predictions = model.predict(testing_CNN_reduced)\n",
    "#non-augmented\n",
    "model2 =  MLPClassifier(solver = 'lbfgs', hidden_layer_sizes=(1468,1000,500), activation='relu',alpha = 0.0112, validation_fraction=0, max_iter = 500, batch_size = 1316)\n",
    "model2.fit(training_CNN_reduced, training_labels)\n",
    "predictions2 = model2.predict(testing_CNN_reduced)"
   ]
  },
  {
   "cell_type": "code",
   "execution_count": 210,
   "metadata": {
    "colab": {},
    "colab_type": "code",
    "id": "MM0bFBjWFbvm"
   },
   "outputs": [],
   "source": [
    "\"\"\"\n",
    "Creates a submission in the correct format and saves to csv\n",
    "\"\"\"\n",
    "def kaggle_submission(predictions, sub_num):\n",
    "  submission = pd.DataFrame(predictions, columns = ['prediction'])\n",
    "  submission.insert(0,\"ID\",range(1,len(submission)+1))\n",
    "  file_name = \"submission_\" + str(sub_num) + \".csv\"\n",
    "  submission.to_csv(file_name ,index=False)"
   ]
  },
  {
   "cell_type": "code",
   "execution_count": 297,
   "metadata": {
    "colab": {},
    "colab_type": "code",
    "id": "lKNxr13xFYjm"
   },
   "outputs": [],
   "source": [
    "#create kaggle submissions\n",
    "kaggle_submission(predictions, 35)\n",
    "kaggle_submission(predictions2, 37)"
   ]
  },
  {
   "cell_type": "code",
   "execution_count": 269,
   "metadata": {
    "colab": {
     "base_uri": "https://localhost:8080/",
     "height": 34
    },
    "colab_type": "code",
    "executionInfo": {
     "elapsed": 516,
     "status": "ok",
     "timestamp": 1590859320014,
     "user": {
      "displayName": "Calvin Boreham",
      "photoUrl": "",
      "userId": "11224479780923968723"
     },
     "user_tz": -60
    },
    "id": "DwnnMe8lSxKy",
    "outputId": "513e07bf-ae0b-4d43-d3bd-edae05ef0da2"
   },
   "outputs": [
    {
     "name": "stdout",
     "output_type": "stream",
     "text": [
      "zeros:6245 ones:5629\n",
      "zeros:5783 ones:6091\n"
     ]
    }
   ],
   "source": [
    "#print predictions to confirm new bias after dropping\n",
    "#target is roughly to match test proportions of 60:40\n",
    "print_predictions(predictions)\n",
    "print_predictions(predictions2)"
   ]
  },
  {
   "cell_type": "code",
   "execution_count": 0,
   "metadata": {
    "colab": {},
    "colab_type": "code",
    "id": "-7diaJQ6TKwp"
   },
   "outputs": [],
   "source": []
  }
 ],
 "metadata": {
  "colab": {
   "authorship_tag": "ABX9TyO1Sg1n7ljCO9SXfIiHujz+",
   "collapsed_sections": [],
   "name": "181355.ipynb",
   "provenance": []
  },
  "kernelspec": {
   "display_name": "Python 3",
   "language": "python",
   "name": "python3"
  },
  "language_info": {
   "codemirror_mode": {
    "name": "ipython",
    "version": 3
   },
   "file_extension": ".py",
   "mimetype": "text/x-python",
   "name": "python",
   "nbconvert_exporter": "python",
   "pygments_lexer": "ipython3",
   "version": "3.7.6"
  }
 },
 "nbformat": 4,
 "nbformat_minor": 1
}
